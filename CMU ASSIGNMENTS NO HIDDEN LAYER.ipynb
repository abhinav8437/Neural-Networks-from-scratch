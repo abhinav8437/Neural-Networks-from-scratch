{
 "cells": [
  {
   "cell_type": "code",
   "execution_count": 1,
   "metadata": {},
   "outputs": [],
   "source": [
    "import pandas as pd\n",
    "import numpy as np\n",
    "from sklearn.preprocessing import OneHotEncoder"
   ]
  },
  {
   "cell_type": "code",
   "execution_count": 2,
   "metadata": {},
   "outputs": [],
   "source": [
    "train_file = open('/Users/abhinavrohilla/Downloads/Handout HW1P1/Demo Tests HW1/data/digitstrain.txt')\n",
    "test_file = open('/Users/abhinavrohilla/Downloads/Handout HW1P1/Demo Tests HW1/data/digitstest.txt')"
   ]
  },
  {
   "cell_type": "code",
   "execution_count": 3,
   "metadata": {},
   "outputs": [],
   "source": [
    "train_data = train_file.readlines()\n",
    "test_data = test_file.readlines()"
   ]
  },
  {
   "cell_type": "code",
   "execution_count": 4,
   "metadata": {},
   "outputs": [],
   "source": [
    "class neural_net_without_hidden_layer:\n",
    "    def __init__(self,file):\n",
    "        self.file = file\n",
    "        self.costt = None\n",
    "        self.weights = None\n",
    "    \n",
    "    def load_data(self,file):\n",
    "        X = []\n",
    "        Y = []\n",
    "        for line in range(len(file)):\n",
    "            split_line = file[line].split(',')\n",
    "            label = split_line[-1]\n",
    "            dimension = [float(i) for i in split_line[:-1]]\n",
    "            Y.append(label[0])\n",
    "            X.append(dimension)\n",
    "        return X,Y\n",
    "    \n",
    "    def predict_Y(self,X_train,weights):\n",
    "        predicted_Y_of_all_data = np.dot(X_train,weights)\n",
    "        return np.exp(predicted_Y_of_all_data) / np.sum(np.exp(predicted_Y_of_all_data), axis=1).reshape(-1,1)\n",
    "    \n",
    "    def cost_func(self,predicted_Y_of_all_data,output_Y_of_all_data):\n",
    "        square_diff = np.power((predicted_Y_of_all_data-output_Y_of_all_data),2)\n",
    "        return np.sum(square_diff)/output_Y_of_all_data.shape[0]\n",
    "\n",
    "    def gradient_descent(self,X_train,predict_Y,output_Y):\n",
    "        #MSE\n",
    "        grad = -1*(1.0/(X_train.shape[0]))*np.dot((predict_Y-output_Y.todense()).T,X_train).T\n",
    "        #CROSS ENTROPY\n",
    "#         grad = 1*np.dot((output_Y/np.log(predict_Y)).T,X_train)\n",
    "        return grad\n",
    "    \n",
    "    def fit(self):\n",
    "        X,Y = self.load_data(self.file)\n",
    "        X_train = np.array(X)\n",
    "        weights = np.random.random(size=(X_train.shape[1],len(set(Y))))\n",
    "        one_hot = OneHotEncoder()\n",
    "        output_Y_of_all_data = one_hot.fit_transform(np.array(Y).reshape(len(Y),1))\n",
    "        iterations = 10\n",
    "        alpha = 0.01\n",
    "        self.costt = []\n",
    "        for i in range(iterations):\n",
    "            predicted_Y = self.predict_Y(X_train,weights)\n",
    "            cost = self.cost_func(predicted_Y,output_Y_of_all_data)\n",
    "            weights = weights + alpha*self.gradient_descent(X_train,predicted_Y,output_Y_of_all_data)\n",
    "            self.costt.append((self.cost_func(predicted_Y,output_Y_of_all_data)))\n",
    "        self.weights = weights\n",
    "    \n",
    "    def predict(self,file):\n",
    "        X,Y = self.load_data(file)\n",
    "        print (self.weights.shape)\n",
    "        predicted_Y = self.predict_Y(X,self.weights)\n",
    "        predicted_Y = np.argmax(predicted_Y,axis=1)\n",
    "        predicted_Y = [int(i) for i in predicted_Y]\n",
    "        return predicted_Y\n",
    "        \n",
    "    "
   ]
  },
  {
   "cell_type": "code",
   "execution_count": 5,
   "metadata": {},
   "outputs": [],
   "source": [
    "obj = neural_net_without_hidden_layer(train_data)"
   ]
  },
  {
   "cell_type": "code",
   "execution_count": 6,
   "metadata": {},
   "outputs": [],
   "source": [
    "obj.fit()"
   ]
  },
  {
   "cell_type": "code",
   "execution_count": 7,
   "metadata": {},
   "outputs": [],
   "source": [
    "costt = obj.costt"
   ]
  },
  {
   "cell_type": "code",
   "execution_count": 8,
   "metadata": {},
   "outputs": [],
   "source": [
    "X,Y = obj.load_data(train_data)"
   ]
  },
  {
   "cell_type": "code",
   "execution_count": 9,
   "metadata": {},
   "outputs": [
    {
     "name": "stdout",
     "output_type": "stream",
     "text": [
      "(784, 10)\n"
     ]
    }
   ],
   "source": [
    "predicted_Y = obj.predict(test_data)"
   ]
  },
  {
   "cell_type": "code",
   "execution_count": 10,
   "metadata": {},
   "outputs": [],
   "source": [
    "X, actual_Y = obj.load_data(test_data)"
   ]
  },
  {
   "cell_type": "code",
   "execution_count": 11,
   "metadata": {},
   "outputs": [],
   "source": [
    "actual_Y = [int(i) for i in actual_Y]"
   ]
  },
  {
   "cell_type": "code",
   "execution_count": 12,
   "metadata": {},
   "outputs": [],
   "source": [
    "from sklearn.metrics import accuracy_score"
   ]
  },
  {
   "cell_type": "code",
   "execution_count": 13,
   "metadata": {},
   "outputs": [
    {
     "data": {
      "text/plain": [
       "0.8373333333333334"
      ]
     },
     "execution_count": 13,
     "metadata": {},
     "output_type": "execute_result"
    }
   ],
   "source": [
    "accuracy_score(predicted_Y,actual_Y)"
   ]
  },
  {
   "cell_type": "code",
   "execution_count": 15,
   "metadata": {},
   "outputs": [
    {
     "name": "stderr",
     "output_type": "stream",
     "text": [
      "/anaconda3/lib/python3.6/site-packages/seaborn/timeseries.py:183: UserWarning: The tsplot function is deprecated and will be removed or replaced (in a substantially altered version) in a future release.\n",
      "  warnings.warn(msg, UserWarning)\n"
     ]
    },
    {
     "data": {
      "text/plain": [
       "<matplotlib.axes._subplots.AxesSubplot at 0x1a108aa518>"
      ]
     },
     "execution_count": 15,
     "metadata": {},
     "output_type": "execute_result"
    },
    {
     "data": {
      "image/png": "[encoded data removed]",
      "text/plain": [
       "<matplotlib.figure.Figure at 0x1a107ae860>"
      ]
     },
     "metadata": {},
     "output_type": "display_data"
    }
   ],
   "source": [
    "import seaborn as sns\n",
    "sns.tsplot(costt)"
   ]
  },
  {
   "cell_type": "code",
   "execution_count": null,
   "metadata": {},
   "outputs": [],
   "source": []
  }
 ],
 "metadata": {
  "kernelspec": {
   "display_name": "Python 3",
   "language": "python",
   "name": "python3"
  },
  "language_info": {
   "codemirror_mode": {
    "name": "ipython",
    "version": 3
   },
   "file_extension": ".py",
   "mimetype": "text/x-python",
   "name": "python",
   "nbconvert_exporter": "python",
   "pygments_lexer": "ipython3",
   "version": "3.6.6"
  }
 },
 "nbformat": 4,
 "nbformat_minor": 2
}
